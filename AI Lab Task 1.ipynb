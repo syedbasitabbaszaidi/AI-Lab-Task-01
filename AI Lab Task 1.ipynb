{
 "cells": [
  {
   "cell_type": "markdown",
   "id": "e09e939e",
   "metadata": {},
   "source": [
    "# To-do List "
   ]
  },
  {
   "cell_type": "code",
   "execution_count": 29,
   "id": "31891abd",
   "metadata": {},
   "outputs": [],
   "source": [
    "list1 = []\n",
    "def add_task(task,priority):\n",
    "    x = True\n",
    "    t1 = (task,priority)\n",
    "    for i in list1:\n",
    "        if i == t1:\n",
    "            print(\"This task already exist\")\n",
    "            x = False\n",
    "            break\n",
    "    if x == True:\n",
    "        list1.append(t1)\n",
    "    for i in range(len(list1)):\n",
    "        for j in range(i+1,len(list1)):\n",
    "            if list1[i][1] > list1[j][1]:\n",
    "                list1[i] , list1[j] = list1[j] , list1[i]\n",
    "                print(\"Task added to list successfully\")\n",
    "def remove_task(task):\n",
    "    x = True\n",
    "    for i in list1:\n",
    "        if i[0] == task:\n",
    "            list1.pop(list1.index(i))\n",
    "            x = False\n",
    "            print(\"Task removed successfylly\")\n",
    "    if x == True:\n",
    "        print(\"This task does not exist\")\n",
    "def display_tasks():\n",
    "    c = 1\n",
    "    for i in list1:\n",
    "        print(f\"Task {c} : {i}\")\n",
    "        c += 1"
   ]
  },
  {
   "cell_type": "code",
   "execution_count": 38,
   "id": "cdb77f5e",
   "metadata": {},
   "outputs": [],
   "source": [
    "def menu():\n",
    "    while True:\n",
    "        a = int(input(\"\"\"        Press 1 to add task\n",
    "        Press 2 to remove task\n",
    "        Press 3 to display task\n",
    "        \"\"\"))\n",
    "        if a == 1:\n",
    "            task = input(\"Enter task you want to add:\")\n",
    "            priority = int(input(\"Enter priority:\"))\n",
    "            add_task(task,priority)\n",
    "        elif a == 2:\n",
    "            task = input(\"Enter task you want to remove:\")\n",
    "            remove_task(task) \n",
    "        elif a == 3:\n",
    "            display_tasks()\n",
    "        else:\n",
    "            print(\"Invalid input. Enter again\")\n",
    "        b = input(\"Do you wan to use it again('Y/N')\")\n",
    "        if b.upper() == \"Y\":\n",
    "            continue\n",
    "        else:\n",
    "            break"
   ]
  },
  {
   "cell_type": "code",
   "execution_count": 39,
   "id": "91e933d3",
   "metadata": {},
   "outputs": [
    {
     "name": "stdout",
     "output_type": "stream",
     "text": [
      "        Press 1 to add task\n",
      "        Press 2 to remove task\n",
      "        Press 3 to display task\n",
      "        3\n",
      "Task 1 : ('Presentation', 1)\n",
      "Do you wan to use it again('Y/N')n\n"
     ]
    }
   ],
   "source": [
    "menu()"
   ]
  },
  {
   "cell_type": "code",
   "execution_count": 36,
   "id": "1586cf6e",
   "metadata": {},
   "outputs": [
    {
     "data": {
      "text/plain": [
       "[('Presentation', 1)]"
      ]
     },
     "execution_count": 36,
     "metadata": {},
     "output_type": "execute_result"
    }
   ],
   "source": [
    "list1"
   ]
  },
  {
   "cell_type": "code",
   "execution_count": null,
   "id": "fee72e57",
   "metadata": {},
   "outputs": [],
   "source": []
  },
  {
   "cell_type": "code",
   "execution_count": null,
   "id": "ddd62d62",
   "metadata": {},
   "outputs": [],
   "source": []
  },
  {
   "cell_type": "code",
   "execution_count": 1,
   "id": "cb0d1382",
   "metadata": {},
   "outputs": [
    {
     "name": "stdout",
     "output_type": "stream",
     "text": [
      "0\n"
     ]
    }
   ],
   "source": []
  },
  {
   "cell_type": "code",
   "execution_count": null,
   "id": "07592653",
   "metadata": {},
   "outputs": [],
   "source": []
  },
  {
   "cell_type": "code",
   "execution_count": null,
   "id": "000b41f9",
   "metadata": {},
   "outputs": [],
   "source": []
  }
 ],
 "metadata": {
  "kernelspec": {
   "display_name": "Python 3 (ipykernel)",
   "language": "python",
   "name": "python3"
  },
  "language_info": {
   "codemirror_mode": {
    "name": "ipython",
    "version": 3
   },
   "file_extension": ".py",
   "mimetype": "text/x-python",
   "name": "python",
   "nbconvert_exporter": "python",
   "pygments_lexer": "ipython3",
   "version": "3.11.5"
  }
 },
 "nbformat": 4,
 "nbformat_minor": 5
}
